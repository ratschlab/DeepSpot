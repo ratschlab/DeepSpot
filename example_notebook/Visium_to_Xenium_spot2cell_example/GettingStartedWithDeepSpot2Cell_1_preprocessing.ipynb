{
 "cells": [
  {
   "cell_type": "markdown",
   "id": "04790142",
   "metadata": {},
   "source": [
    "# DeepSpot2Cell Data Preprocessing\n",
    "\n",
    "This notebook shows how to prepare data for DeepSpot2Cell training by:\n",
    "- Loading HEST datasets\n",
    "- Extracting morphology features from histological images\n",
    "- Processing spot-level expression data"
   ]
  },
  {
   "cell_type": "code",
   "execution_count": null,
   "id": "1bad1a6c",
   "metadata": {},
   "outputs": [],
   "source": [
    "import os\n",
    "os.chdir('../../')\n",
    "\n",
    "from deepspot.deepspot2cell.dataset_creation import process_sample\n",
    "from deepspot.utils.utils_image import get_morphology_model_and_preprocess\n",
    "from hest import iter_hest\n",
    "from tqdm import tqdm\n",
    "import torch\n",
    "\n",
    "dataset_variant = 22\n",
    "data_folder = \"hest_data\"\n",
    "model_name = \"phikonv2\"\n",
    "model_path = \"/path/to/your/pathology_models/phikon-v2/snapshots/93276a02a78253429f566882de5302867f747394\"\n",
    "samples_to_process = [\"NCBI864\", \"NCBI873\", \"NCBI856\", \"NCBI860\", \"NCBI858\"]\n",
    "batch_size = 32\n",
    "\n",
    "config = {\n",
    "    'data': {\n",
    "        'data_folder': data_folder,\n",
    "        'dataset_variant': dataset_variant,\n",
    "        'spot_diameter_px': 160,\n",
    "        'patch_size_px': 224,\n",
    "        'qv_threshold': 20,\n",
    "        'min_cells_per_gene': 20\n",
    "    }\n",
    "}\n",
    "\n",
    "device = torch.device('cuda' if torch.cuda.is_available() else 'cpu')\n",
    "model, preprocess, _ = get_morphology_model_and_preprocess(model_name, device, model_path=model_path)\n",
    "\n",
    "os.makedirs(f'{data_folder}/embeddings{dataset_variant}/{model_name}', exist_ok=True)\n",
    "os.makedirs(f'{data_folder}/expressions{dataset_variant}', exist_ok=True)"
   ]
  },
  {
   "cell_type": "code",
   "execution_count": null,
   "id": "110ecf00",
   "metadata": {},
   "outputs": [],
   "source": [
    "for i, st in enumerate(tqdm(iter_hest(data_folder, id_list=samples_to_process, load_transcripts=True), \n",
    "                            desc=\"Processing samples\", total=len(samples_to_process))):\n",
    "    sample_id = samples_to_process[i]\n",
    "    process_sample(sample_id, st, model, preprocess, device, batch_size, config)"
   ]
  },
  {
   "cell_type": "markdown",
   "id": "2cfca82e",
   "metadata": {},
   "source": [
    "## Same, but with a script and config file\n",
    "\n",
    "For large datasets, use the preprocessing script:\n",
    "\n",
    "```bash\n",
    "cd /path/to/DeepSpot\n",
    "python -m deepspot.deepspot2cell.dataset_creation --config config.yaml\n",
    "```\n",
    "\n",
    "> Please note that this script is GPU-only.\n",
    "\n",
    "Example config file:\n",
    "```yaml\n",
    "data:\n",
    "  dataset_variant: 22\n",
    "  spot_diameter_px: 160\n",
    "  patch_size_px: 224\n",
    "  data_folder: hest_data\n",
    "  model_name: phikonv2\n",
    "  model_path: /path/to/pathology_models/phikon-v2/snapshots/93276a02a78253429f566882de5302867f747394\n",
    "  val_fraction: 0.2\n",
    "  qv_thr: 20\n",
    "  min_cells: 20\n",
    "\n",
    "  lung:\n",
    "    short_name: Lung Cancer\n",
    "    train:\n",
    "      dataset_ids:\n",
    "        - NCBI864\n",
    "        - NCBI873\n",
    "        - NCBI856\n",
    "        - NCBI860\n",
    "        - NCBI858\n",
    "        - NCBI881\n",
    "        - NCBI866\n",
    "        - NCBI859\n",
    "        - NCBI884\n",
    "        - NCBI867\n",
    "        - NCBI875\n",
    "        - NCBI879\n",
    "        - NCBI883\n",
    "        - NCBI870\n",
    "        - NCBI861\n",
    "        - NCBI876\n",
    "        - NCBI880\n",
    "        - NCBI882\n",
    "        - NCBI865\n",
    "        - NCBI857\n",
    "    ood:\n",
    "      dataset_ids:\n",
    "        - TENX118\n",
    "        - TENX141\n",
    "    ordered_genes_file: filtered_ordered_genes_lung.json\n",
    "```"
   ]
  },
  {
   "cell_type": "markdown",
   "id": "ad8cbaac",
   "metadata": {},
   "source": [
    "## Cell segmentation\n",
    "\n",
    "HEST-1k dataset comes with cell segmentations obtained using CellViT. If your dataset does not have cell segmentations, you can refer to the [CellViT documentation](https://tio-ikim.github.io/CellViT-Inference/usage.html) for instructions on how to obtain them."
   ]
  }
 ],
 "metadata": {
  "language_info": {
   "name": "python"
  }
 },
 "nbformat": 4,
 "nbformat_minor": 5
}
